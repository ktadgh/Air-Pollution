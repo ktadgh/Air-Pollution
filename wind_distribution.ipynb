{
 "cells": [
  {
   "cell_type": "code",
   "execution_count": 1,
   "metadata": {
    "collapsed": true
   },
   "outputs": [],
   "source": [
    "import pandas as pd\n",
    "import numpy as np"
   ]
  },
  {
   "cell_type": "code",
   "execution_count": 2,
   "outputs": [],
   "source": [
    "july = pd.read_csv(\"wind distribution/Untitled spreadsheet - Btn_met202207.csv\")"
   ],
   "metadata": {
    "collapsed": false
   }
  },
  {
   "cell_type": "code",
   "execution_count": 3,
   "outputs": [
    {
     "name": "stdout",
     "output_type": "stream",
     "text": [
      "           Date/Time (GMT)  Wind (m/s)  Wind Dir (deg)  Gust (m/s)  \\\n",
      "0     01-Jul-2022 00:00:00         6.6             226         8.4   \n",
      "1     01-Jul-2022 00:10:00         6.0             218         7.4   \n",
      "2     01-Jul-2022 00:20:00         6.4             222         8.6   \n",
      "3     01-Jul-2022 00:30:00         6.0             221         8.6   \n",
      "4     01-Jul-2022 00:40:00         5.5             220         6.8   \n",
      "...                    ...         ...             ...         ...   \n",
      "4459  31-Jul-2022 23:10:00         1.5               2         2.3   \n",
      "4460  31-Jul-2022 23:20:00         1.5              40         2.1   \n",
      "4461  31-Jul-2022 23:30:00         1.6              33         2.1   \n",
      "4462  31-Jul-2022 23:40:00         0.6              39         1.2   \n",
      "4463  31-Jul-2022 23:50:00         1.8             356         2.2   \n",
      "\n",
      "      Baro (hPa)  Tair (degC)  Rainfall (mm)  Solar (W/m^2)  UV (W/m^2)  \\\n",
      "0           1012         14.8            0.0           9999        9999   \n",
      "1           1012         14.7            0.0           9999        9999   \n",
      "2           1012         14.9            0.0           9999        9999   \n",
      "3           1012         14.8            0.0           9999        9999   \n",
      "4           1012         14.8            0.0           9999        9999   \n",
      "...          ...          ...            ...            ...         ...   \n",
      "4459        1015         18.6            0.0           9999        9999   \n",
      "4460        1015         18.3            0.0           9999        9999   \n",
      "4461        1015         18.3            0.0           9999        9999   \n",
      "4462        1015         18.2            0.0           9999        9999   \n",
      "4463        1015         18.0            0.0           9999        9999   \n",
      "\n",
      "      RH (%)  flag  \n",
      "0         74     0  \n",
      "1         75     0  \n",
      "2         77     0  \n",
      "3         79     0  \n",
      "4         80     0  \n",
      "...      ...   ...  \n",
      "4459     100     0  \n",
      "4460     100     0  \n",
      "4461     100     0  \n",
      "4462     100     0  \n",
      "4463     100     0  \n",
      "\n",
      "[4464 rows x 11 columns]\n"
     ]
    }
   ],
   "source": [
    "print(july)"
   ],
   "metadata": {
    "collapsed": false
   }
  },
  {
   "cell_type": "code",
   "execution_count": 4,
   "outputs": [],
   "source": [
    "# x going west to east, y going south to north\n",
    "july[\"x_speed\"] = july[\"Wind (m/s)\"]*np.sin(july[\"Wind Dir (deg)\"] * np.pi / 180)\n",
    "july[\"y_speed\"] = july[\"Wind (m/s)\"]*np.cos(july[\"Wind Dir (deg)\"] * np.pi / 180)"
   ],
   "metadata": {
    "collapsed": false
   }
  },
  {
   "cell_type": "code",
   "execution_count": 10,
   "outputs": [],
   "source": [
    "mean_x_speed = july[\"x_speed\"].mean()\n",
    "mean_y_speed = july[\"y_speed\"].mean()\n",
    "july_atan2_direction = np.arctan2(mean_x_speed, mean_y_speed)*180/np.pi"
   ],
   "metadata": {
    "collapsed": false
   }
  },
  {
   "cell_type": "code",
   "execution_count": 11,
   "outputs": [
    {
     "name": "stdout",
     "output_type": "stream",
     "text": [
      "-100.31685265613729\n"
     ]
    }
   ],
   "source": [
    "print(july_atan2_direction)"
   ],
   "metadata": {
    "collapsed": false
   }
  },
  {
   "cell_type": "code",
   "execution_count": 13,
   "outputs": [],
   "source": [
    "def actual_direction(dir):\n",
    "    if dir >180:\n",
    "        dir -= 180\n",
    "    elif dir < 180:\n",
    "        dir += 180\n",
    "    return dir"
   ],
   "metadata": {
    "collapsed": false
   }
  },
  {
   "cell_type": "code",
   "execution_count": 17,
   "outputs": [],
   "source": [
    "new_dir =actual_direction(july_atan2_direction)"
   ],
   "metadata": {
    "collapsed": false
   }
  },
  {
   "cell_type": "markdown",
   "source": [
    "Now we take 79.683... as the prevailing wind direction for july."
   ],
   "metadata": {
    "collapsed": false
   }
  },
  {
   "cell_type": "code",
   "execution_count": 24,
   "outputs": [],
   "source": [
    "july[\"transformed_x_speed\"] = july[\"Wind (m/s)\"]*np.cos(july[\"Wind Dir (deg)\"] - new_dir)\n",
    "july[\"transformed_y_speed\"] = july[\"Wind (m/s)\"]*np.sin(july[\"Wind Dir (deg)\"] - new_dir)"
   ],
   "metadata": {
    "collapsed": false
   }
  },
  {
   "cell_type": "code",
   "execution_count": 25,
   "outputs": [
    {
     "name": "stdout",
     "output_type": "stream",
     "text": [
      "-4.747642682235095 -4.584745245029383\n",
      "-1.522602253543223 6.421968730654572\n"
     ]
    }
   ],
   "source": [
    "print(july[\"x_speed\"][0], july[\"y_speed\"][0])\n",
    "print(july[\"transformed_x_speed\"][0],july[\"transformed_y_speed\"][0])"
   ],
   "metadata": {
    "collapsed": false
   }
  }
 ],
 "metadata": {
  "kernelspec": {
   "display_name": "Python 3",
   "language": "python",
   "name": "python3"
  },
  "language_info": {
   "codemirror_mode": {
    "name": "ipython",
    "version": 2
   },
   "file_extension": ".py",
   "mimetype": "text/x-python",
   "name": "python",
   "nbconvert_exporter": "python",
   "pygments_lexer": "ipython2",
   "version": "2.7.6"
  }
 },
 "nbformat": 4,
 "nbformat_minor": 0
}
