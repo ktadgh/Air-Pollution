{
 "cells": [
  {
   "cell_type": "code",
   "execution_count": 2,
   "metadata": {
    "collapsed": true
   },
   "outputs": [],
   "source": [
    "import pandas as pd\n",
    "import numpy as np\n",
    "import seaborn as sns\n",
    "from scipy.stats import norm"
   ]
  },
  {
   "cell_type": "markdown",
   "source": [],
   "metadata": {
    "collapsed": false
   }
  },
  {
   "cell_type": "code",
   "execution_count": 3,
   "outputs": [],
   "source": [
    "july = pd.read_csv(\"wind distribution/Untitled spreadsheet - Btn_met202207.csv\")"
   ],
   "metadata": {
    "collapsed": false
   }
  },
  {
   "cell_type": "code",
   "execution_count": 4,
   "outputs": [
    {
     "name": "stdout",
     "output_type": "stream",
     "text": [
      "           Date/Time (GMT)  Wind (m/s)  Wind Dir (deg)  Gust (m/s)  \\\n",
      "0     01-Jul-2022 00:00:00         6.6             226         8.4   \n",
      "1     01-Jul-2022 00:10:00         6.0             218         7.4   \n",
      "2     01-Jul-2022 00:20:00         6.4             222         8.6   \n",
      "3     01-Jul-2022 00:30:00         6.0             221         8.6   \n",
      "4     01-Jul-2022 00:40:00         5.5             220         6.8   \n",
      "...                    ...         ...             ...         ...   \n",
      "4459  31-Jul-2022 23:10:00         1.5               2         2.3   \n",
      "4460  31-Jul-2022 23:20:00         1.5              40         2.1   \n",
      "4461  31-Jul-2022 23:30:00         1.6              33         2.1   \n",
      "4462  31-Jul-2022 23:40:00         0.6              39         1.2   \n",
      "4463  31-Jul-2022 23:50:00         1.8             356         2.2   \n",
      "\n",
      "      Baro (hPa)  Tair (degC)  Rainfall (mm)  Solar (W/m^2)  UV (W/m^2)  \\\n",
      "0           1012         14.8            0.0           9999        9999   \n",
      "1           1012         14.7            0.0           9999        9999   \n",
      "2           1012         14.9            0.0           9999        9999   \n",
      "3           1012         14.8            0.0           9999        9999   \n",
      "4           1012         14.8            0.0           9999        9999   \n",
      "...          ...          ...            ...            ...         ...   \n",
      "4459        1015         18.6            0.0           9999        9999   \n",
      "4460        1015         18.3            0.0           9999        9999   \n",
      "4461        1015         18.3            0.0           9999        9999   \n",
      "4462        1015         18.2            0.0           9999        9999   \n",
      "4463        1015         18.0            0.0           9999        9999   \n",
      "\n",
      "      RH (%)  flag  \n",
      "0         74     0  \n",
      "1         75     0  \n",
      "2         77     0  \n",
      "3         79     0  \n",
      "4         80     0  \n",
      "...      ...   ...  \n",
      "4459     100     0  \n",
      "4460     100     0  \n",
      "4461     100     0  \n",
      "4462     100     0  \n",
      "4463     100     0  \n",
      "\n",
      "[4464 rows x 11 columns]\n"
     ]
    }
   ],
   "source": [
    "print(july)"
   ],
   "metadata": {
    "collapsed": false
   }
  },
  {
   "cell_type": "code",
   "execution_count": 5,
   "outputs": [],
   "source": [
    "# x going west to east, y going south to north\n",
    "july[\"x_speed\"] = july[\"Wind (m/s)\"]*np.sin(july[\"Wind Dir (deg)\"] * np.pi / 180)\n",
    "july[\"y_speed\"] = july[\"Wind (m/s)\"]*np.cos(july[\"Wind Dir (deg)\"] * np.pi / 180)"
   ],
   "metadata": {
    "collapsed": false
   }
  },
  {
   "cell_type": "code",
   "execution_count": 17,
   "outputs": [
    {
     "name": "stdout",
     "output_type": "stream",
     "text": [
      "-3.021896021538216\n",
      "-0.5500898292190252\n"
     ]
    }
   ],
   "source": [
    "mean_x_speed = july[\"x_speed\"].mean()\n",
    "mean_y_speed = july[\"y_speed\"].mean()\n",
    "print(mean_x_speed)\n",
    "print(mean_y_speed)\n",
    "july_atan2_direction = np.arctan2(mean_x_speed, mean_y_speed)*180/np.pi"
   ],
   "metadata": {
    "collapsed": false
   }
  },
  {
   "cell_type": "code",
   "execution_count": 7,
   "outputs": [
    {
     "name": "stdout",
     "output_type": "stream",
     "text": [
      "-100.31685265613729\n"
     ]
    }
   ],
   "source": [
    "print(july_atan2_direction)"
   ],
   "metadata": {
    "collapsed": false
   }
  },
  {
   "cell_type": "code",
   "execution_count": 8,
   "outputs": [],
   "source": [
    "def actual_direction(dir):\n",
    "    if dir >180:\n",
    "        dir -= 180\n",
    "    elif dir < 180:\n",
    "        dir += 180\n",
    "    return dir"
   ],
   "metadata": {
    "collapsed": false
   }
  },
  {
   "cell_type": "code",
   "execution_count": 9,
   "outputs": [],
   "source": [
    "new_dir =actual_direction(july_atan2_direction)"
   ],
   "metadata": {
    "collapsed": false
   }
  },
  {
   "cell_type": "code",
   "execution_count": 20,
   "outputs": [
    {
     "name": "stdout",
     "output_type": "stream",
     "text": [
      "79.68314734386271\n"
     ]
    }
   ],
   "source": [
    "print(new_dir)"
   ],
   "metadata": {
    "collapsed": false
   }
  },
  {
   "cell_type": "markdown",
   "source": [
    "Now we take 79.683... as the prevailing wind direction for july."
   ],
   "metadata": {
    "collapsed": false
   }
  },
  {
   "cell_type": "code",
   "execution_count": 21,
   "outputs": [],
   "source": [
    "july[\"transformed_x_speed\"] = july[\"Wind (m/s)\"]*np.cos((july[\"Wind Dir (deg)\"] - new_dir)*np.pi/180)\n",
    "july[\"transformed_y_speed\"] = july[\"Wind (m/s)\"]*np.sin((july[\"Wind Dir (deg)\"] - new_dir)*np.pi/180)"
   ],
   "metadata": {
    "collapsed": false
   }
  },
  {
   "cell_type": "code",
   "execution_count": 23,
   "outputs": [
    {
     "name": "stdout",
     "output_type": "stream",
     "text": [
      "-4.282435880696693 -4.728064521640333\n",
      "-3.0715556946275093 3.990064283726232\n"
     ]
    }
   ],
   "source": [
    "print(july[\"x_speed\"][2], july[\"y_speed\"][1])\n",
    "print(july[\"transformed_x_speed\"].mean(),july[\"transformed_y_speed\"][1])"
   ],
   "metadata": {
    "collapsed": false
   }
  },
  {
   "cell_type": "code",
   "execution_count": 12,
   "outputs": [
    {
     "name": "stderr",
     "output_type": "stream",
     "text": [
      "C:\\Users\\Administrator\\AppData\\Local\\Programs\\Python\\Python310\\lib\\site-packages\\seaborn\\distributions.py:2619: FutureWarning: `distplot` is a deprecated function and will be removed in a future version. Please adapt your code to use either `displot` (a figure-level function with similar flexibility) or `histplot` (an axes-level function for histograms).\n",
      "  warnings.warn(msg, FutureWarning)\n"
     ]
    },
    {
     "data": {
      "text/plain": "<AxesSubplot:xlabel='transformed_x_speed'>"
     },
     "execution_count": 12,
     "metadata": {},
     "output_type": "execute_result"
    },
    {
     "data": {
      "text/plain": "<Figure size 432x288 with 1 Axes>",
      "image/png": "[encoded data removed]"
     },
     "metadata": {},
     "output_type": "display_data"
    }
   ],
   "source": [
    "sns.distplot(july[\"transformed_x_speed\"], fit=norm, kde=False)"
   ],
   "metadata": {
    "collapsed": false
   }
  },
  {
   "cell_type": "code",
   "execution_count": 25,
   "outputs": [],
   "source": [
    "mean,std=norm.fit(july[\"transformed_x_speed\"])"
   ],
   "metadata": {
    "collapsed": false
   }
  },
  {
   "cell_type": "code",
   "execution_count": 26,
   "outputs": [
    {
     "name": "stdout",
     "output_type": "stream",
     "text": [
      "-3.0715556946275093\n"
     ]
    }
   ],
   "source": [
    "print(mean)"
   ],
   "metadata": {
    "collapsed": false
   }
  },
  {
   "cell_type": "code",
   "execution_count": 15,
   "outputs": [],
   "source": [
    "mean,std=norm.fit(july[\"transformed_y_speed\"])"
   ],
   "metadata": {
    "collapsed": false
   }
  },
  {
   "cell_type": "code",
   "execution_count": 16,
   "outputs": [
    {
     "name": "stdout",
     "output_type": "stream",
     "text": [
      "-2.2398281676722807\n"
     ]
    }
   ],
   "source": [
    "print(mean)"
   ],
   "metadata": {
    "collapsed": false
   }
  }
 ],
 "metadata": {
  "kernelspec": {
   "display_name": "Python 3",
   "language": "python",
   "name": "python3"
  },
  "language_info": {
   "codemirror_mode": {
    "name": "ipython",
    "version": 2
   },
   "file_extension": ".py",
   "mimetype": "text/x-python",
   "name": "python",
   "nbconvert_exporter": "python",
   "pygments_lexer": "ipython2",
   "version": "2.7.6"
  }
 },
 "nbformat": 4,
 "nbformat_minor": 0
}
