{
 "cells": [
  {
   "cell_type": "code",
   "execution_count": 83,
   "id": "9d69826d",
   "metadata": {},
   "outputs": [],
   "source": [
    "import numpy as np\n",
    "import matplotlib\n",
    "import matplotlib.pyplot as plt\n",
    "from scipy.stats import norm\n",
    "from scipy.stats import multivariate_normal\n",
    "import scipy\n",
    "import math\n",
    "from matplotlib import animation\n",
    "import seaborn as sb"
   ]
  },
  {
   "cell_type": "code",
   "execution_count": 84,
   "id": "3f72418d",
   "metadata": {},
   "outputs": [],
   "source": [
    "# Initial conditions for Case 1 and exact solution\n",
    "dir0 = 0.0  # u(-L,t)= dir0\n",
    "dir1 = 0.0  # u(L,t)= dir1\n",
    "\n",
    "# function for setting initial conditions in space\n",
    "def I(x): # initial u(x,0)\n",
    "    result = []\n",
    "    len_x = np.size(x)\n",
    "    i_x = np.zeros(len_x)\n",
    "    for x_i in x:\n",
    "        i_x = norm.pdf(x_i, 0, 1/(2**2))\n",
    "        result.append(i_x)\n",
    "    return result\n",
    "\n",
    "\n",
    "#Note - I'm assuming D=1\n",
    "def U_exact(x,t):\n",
    "    M = np.size(x)\n",
    "    u_ex = np.zeros(M)\n",
    "    if t == 0:\n",
    "        u_ex = norm.pdf(x,0,1/(2**2))\n",
    "    else:\n",
    "        y = x - v*t\n",
    "        u_ex = np.exp(-y**2/(4*t))/np.sqrt(4*np.pi*t)\n",
    "        u_ex[0] = dir0\n",
    "        u_ex[M-1] = dir1\n",
    "    return u_ex"
   ]
  },
  {
   "cell_type": "markdown",
   "source": [
    "## Using the normally distributed wind speeds"
   ],
   "metadata": {
    "collapsed": false
   }
  },
  {
   "cell_type": "code",
   "execution_count": 85,
   "outputs": [],
   "source": [
    "# Defining the wind speed function\n",
    "#def wind_speed(shape, scale):\n",
    "    # using a weibull with parameter k as an example, we can change it when we have data\n",
    "#    return np.random.weibull(shape)*scale\n",
    "\n",
    "\n",
    "# setting the distributions to be equal to those given in the wind_distribution file.\n",
    "x_mean = 2.0046153468353722\n",
    "x_std = 2.168835495560843\n",
    "\n",
    "y_mean = 1.0209864186943514*np.exp(-16)\n",
    "y_std = 2.901290755064771\n",
    "\n",
    "\n",
    "# converting to KM\n",
    "# x_mean /= 1000\n",
    "# x_std /= 1000\n",
    "#\n",
    "# y_mean /= 1000\n",
    "# y_std /= 1000\n",
    "\n",
    "def wind_speed(mean, std):\n",
    "    # using a weibull with parameter k as an example, we can change it when we have data\n",
    "    return np.random.normal(loc = mean, scale = std)"
   ],
   "metadata": {
    "collapsed": false
   }
  },
  {
   "cell_type": "code",
   "execution_count": 86,
   "id": "85c9ce86",
   "metadata": {},
   "outputs": [
    {
     "name": "stdout",
     "output_type": "stream",
     "text": [
      "Delta x = 0.25 Delta t =  0.0009765625 C = 0.015625\n"
     ]
    }
   ],
   "source": [
    "## ====== setting parameters =======\n",
    "Nt_gaps = 2**10  # number of timesteps\n",
    "L = 2**5 # final distance\n",
    "T = 1  # final time \n",
    "Nt_points = Nt_gaps + 1\n",
    "h = T/(Nt_points)  # time step\n",
    "\n",
    "t = np.linspace(0.,T,Nt_points)  # times at each time step\n",
    "Nx_spaces = 2**8; # number of spaces in x direction\n",
    "Nx_points = Nx_spaces + 1 \n",
    "x_pde = np.linspace(-L, L, Nx_points)    # mesh points in space\n",
    "dx = x_pde[1] - x_pde[0] \n",
    "dt = t[1] - t[0]\n",
    "\n",
    "# Setting B, C and v for the numerical soultions\n",
    "C = dt/(dx**2)\n",
    "v = 15\n",
    "B = v*dt/(2*dx)\n",
    "print(\"Delta x =\", dx, \"Delta t = \", dt, \"C =\", C)\n",
    "\n",
    "\n",
    "##----------intialise lists ------------------------\n",
    "# Define the numerical solution \n",
    "# the first index is space and the second time\n",
    "U = np.zeros((Nx_points,Nt_points))\n",
    "\n",
    "# The initial condition\n",
    "U[:,0]=I(x_pde)\n",
    "# enforcing the boundary condition\n",
    "U[-L,:]  = dir0 \n",
    "U[L,:] = dir1"
   ]
  },
  {
   "cell_type": "code",
   "execution_count": 87,
   "id": "f7f442cd",
   "metadata": {
    "scrolled": true
   },
   "outputs": [],
   "source": [
    "x_ex = np.linspace(-L, L, Nx_points)\n",
    "def plotting(U,L,type):\n",
    "    size_t = np.size(U,1)-1 # number of time steps\n",
    "   \n",
    "    fig, ax = plt.subplots(1, 1, figsize=(10, 8))\n",
    "    markers =['X','.','+','o']\n",
    "\n",
    "    colours = ['r','g','b','purple','yellow'] # make comparison easy\n",
    "    colours1 = ['b','purple','yellow','r','g',]\n",
    "    colour_pos = 0;\n",
    "\n",
    "\n",
    "\n",
    "# some arbitarily chosen time points to compare at\n",
    "    for plot_pos in [0, int(size_t/10),int(size_t/5), int(size_t/2), int(size_t)]:\n",
    "        if type == \"exact\":\n",
    "            U_tplot = U_exact(x_ex,t[plot_pos])\n",
    "            label = \"Exact, t=\" + \"%0.3f\" % (t[plot_pos],)\n",
    "            ax.plot(x_ex,U_tplot,linestyle = ':',color = colours[colour_pos],marker = \".\",markersize = 1, label=label)\n",
    "            colour_pos = colour_pos + 1;\n",
    "    # numerical solution\n",
    "        else:\n",
    "            label = \"Numerical PDE, t=\" + \"%0.3f\" % (t[plot_pos],)\n",
    "            ax.plot(x_pde,U[:,plot_pos],color = colours[colour_pos],ls='--', label=label)\n",
    "            colour_pos = colour_pos + 1;\n",
    "\n",
    "    plt.xlim(-L,L) # zoom in on area of interest\n",
    "    ax.legend() # turn on legend \n",
    "    plt.show()"
   ]
  },
  {
   "cell_type": "code",
   "execution_count": 88,
   "id": "19aaabcf",
   "metadata": {},
   "outputs": [],
   "source": [
    "# u_old = I(x_pde)\n",
    "#\n",
    "# u = np.zeros(Nx_points)\n",
    "# # and to store the full solution\n",
    "# U = np.zeros((Nx_points,Nt_points))\n",
    "# U[:,0] = u_old\n",
    "# for n in range(1, Nt_points):\n",
    "#     # set Dirichlet boundary points here\n",
    "#     #...\n",
    "#     # compute u at inner mesh points\n",
    "#     for i in range(1, Nx_points-1):\n",
    "#         u[i] = (1-2*C)*u_old[i] + (C+B)*(u_old[i-1]) + (C-B)*(u_old[i+1])\n",
    "#\n",
    "#     # update u_old before next step\n",
    "#     u_old[:]= u\n",
    "#\n",
    "#     # copy into full storage\n",
    "#     U[:,n] = u;\n",
    "# print(U.shape)\n",
    "# plotting(U,L, \"exact\")\n",
    "# plotting(U,L, \"numerical\")"
   ]
  },
  {
   "cell_type": "code",
   "execution_count": 89,
   "id": "377e2b24",
   "metadata": {},
   "outputs": [],
   "source": [
    "#Note - I'm assuming D=1\n",
    "#def U_exact(x,t):\n",
    "#    M = np.size(x)\n",
    "#    u_ex = np.zeros(M)\n",
    "#    for x_i in x:\n",
    "#        if t == 0:\n",
    "#            x_i = norm.pdf(x[i], 0, 1/(2**12))\n",
    "#    else:\n",
    "#        x_i = 1/(2*np.pi*t)*np.exp(-x**2/(4*t))\n",
    "#    return u_ex"
   ]
  },
  {
   "cell_type": "markdown",
   "source": [
    "# Extending to 2D"
   ],
   "metadata": {
    "collapsed": false
   }
  },
  {
   "cell_type": "code",
   "execution_count": 90,
   "outputs": [
    {
     "name": "stdout",
     "output_type": "stream",
     "text": [
      "Delta x = 312.5 Delta t =  0.244140625 C = 2.5e-06\n"
     ]
    }
   ],
   "source": [
    "# ====== setting parameters =======\n",
    "Nt_gaps = 2**12  # number of timesteps\n",
    "Lx = 5000  # final distance in x\n",
    "Ly = 5000  # final distance in y\n",
    "T = 1000  # final time\n",
    "Nt_points = Nt_gaps + 1\n",
    "h = T/(Nt_points)  # time step\n",
    "\n",
    "t = np.linspace(0.,T,Nt_points)  # times at each time step\n",
    "Nx_spaces = 2**5; # number of spaces in x direction\n",
    "Nx_points = Nx_spaces + 1\n",
    "Ny_points = Nx_points\n",
    "\n",
    "x_pde = np.linspace(-Lx, Ly, Nx_points)\n",
    "y_pde = np.linspace(-Lx, Ly, Ny_points)\n",
    "\n",
    "dx = x_pde[1] - x_pde[0]\n",
    "dt = t[1] - t[0]\n",
    "\n",
    "# Setting B, C and v for the numerical soultions\n",
    "C = dt/(dx**2)\n",
    "#vx = 5\n",
    "#vy = 5\n",
    "#Bx = vx*dt/(2*dx)\n",
    "#By = vy*dt/(2*dx)\n",
    "print(\"Delta x =\", dx, \"Delta t = \", dt, \"C =\", C)\n"
   ],
   "metadata": {
    "collapsed": false
   }
  },
  {
   "cell_type": "code",
   "execution_count": 91,
   "outputs": [],
   "source": [
    "# Note - how do we justify choice of covariance?\n",
    "dist = multivariate_normal(mean=[0,0], cov=[[1/(1000),0],[0,1/(1000)]])\n",
    "\n",
    "# function for setting initial conditions in 2D space\n",
    "def I(x, y): # initial u(x,0):\n",
    "    result = np.zeros((Nx_points, Ny_points))\n",
    "    i = 0\n",
    "    for x_i in x:\n",
    "        j = 0\n",
    "        for y_i in y:\n",
    "            xy = dist.pdf([x_i,y_i])\n",
    "            result[i][j] = xy\n",
    "            j +=1\n",
    "        i +=1\n",
    "    return result\n",
    "\n",
    "\n",
    "\n"
   ],
   "metadata": {
    "collapsed": false
   }
  },
  {
   "cell_type": "code",
   "execution_count": 93,
   "outputs": [
    {
     "ename": "KeyboardInterrupt",
     "evalue": "",
     "output_type": "error",
     "traceback": [
      "\u001B[1;31m---------------------------------------------------------------------------\u001B[0m",
      "\u001B[1;31mKeyboardInterrupt\u001B[0m                         Traceback (most recent call last)",
      "Input \u001B[1;32mIn [93]\u001B[0m, in \u001B[0;36m<module>\u001B[1;34m\u001B[0m\n\u001B[0;32m     18\u001B[0m \u001B[38;5;28;01mfor\u001B[39;00m i \u001B[38;5;129;01min\u001B[39;00m \u001B[38;5;28mrange\u001B[39m(\u001B[38;5;241m1\u001B[39m, Nx_points\u001B[38;5;241m-\u001B[39m\u001B[38;5;241m1\u001B[39m):\n\u001B[0;32m     19\u001B[0m     \u001B[38;5;28;01mfor\u001B[39;00m j \u001B[38;5;129;01min\u001B[39;00m \u001B[38;5;28mrange\u001B[39m(\u001B[38;5;241m1\u001B[39m,Nx_points \u001B[38;5;241m-\u001B[39m\u001B[38;5;241m1\u001B[39m):\n\u001B[0;32m     20\u001B[0m \n\u001B[0;32m     21\u001B[0m         \u001B[38;5;66;03m# draw independent random samples for our distribution for wind speed\u001B[39;00m\n\u001B[1;32m---> 22\u001B[0m         Bx \u001B[38;5;241m=\u001B[39m \u001B[43mwind_speed\u001B[49m\u001B[43m(\u001B[49m\u001B[43mx_mean\u001B[49m\u001B[43m,\u001B[49m\u001B[43m \u001B[49m\u001B[43mx_std\u001B[49m\u001B[43m)\u001B[49m\u001B[38;5;241m*\u001B[39mdt\u001B[38;5;241m/\u001B[39m(\u001B[38;5;241m2\u001B[39m\u001B[38;5;241m*\u001B[39mdx)\n\u001B[0;32m     23\u001B[0m         By \u001B[38;5;241m=\u001B[39m wind_speed(y_mean, y_std)\u001B[38;5;241m*\u001B[39mdt\u001B[38;5;241m/\u001B[39m(\u001B[38;5;241m2\u001B[39m\u001B[38;5;241m*\u001B[39mdx)\n\u001B[0;32m     25\u001B[0m         u[i][j] \u001B[38;5;241m=\u001B[39m (\u001B[38;5;241m1\u001B[39m\u001B[38;5;241m-\u001B[39m\u001B[38;5;241m4\u001B[39m\u001B[38;5;241m*\u001B[39mC)\u001B[38;5;241m*\u001B[39mu_old[i][j] \u001B[38;5;241m+\u001B[39m (C\u001B[38;5;241m+\u001B[39mBx)\u001B[38;5;241m*\u001B[39m(u_old[i\u001B[38;5;241m-\u001B[39m\u001B[38;5;241m1\u001B[39m][j]) \u001B[38;5;241m+\u001B[39m (C\u001B[38;5;241m-\u001B[39mBx)\u001B[38;5;241m*\u001B[39m(u_old[i\u001B[38;5;241m+\u001B[39m\u001B[38;5;241m1\u001B[39m][j]) \u001B[38;5;241m+\u001B[39m  (C\u001B[38;5;241m+\u001B[39mBy)\u001B[38;5;241m*\u001B[39m(u_old[i][j\u001B[38;5;241m-\u001B[39m\u001B[38;5;241m1\u001B[39m]) \u001B[38;5;241m+\u001B[39m (C\u001B[38;5;241m-\u001B[39mBy)\u001B[38;5;241m*\u001B[39m(u_old[i][j\u001B[38;5;241m+\u001B[39m\u001B[38;5;241m1\u001B[39m])\n",
      "\u001B[1;31mKeyboardInterrupt\u001B[0m: "
     ]
    }
   ],
   "source": [
    "U =  np.zeros((Nt_points,Nx_points,Ny_points))\n",
    "u = np.zeros((Nx_points, Ny_points))\n",
    "u_old = I(x_pde,y_pde)\n",
    "U[0,:,:] = u_old\n",
    "\n",
    "# enforcing the boundary condition\n",
    "U[:,0,:]  = dir0\n",
    "U[:,-1,:] = dir1\n",
    "\n",
    "U[:,:,0] = dir0\n",
    "U[:,:,-1] = dir1\n",
    "\n",
    "\n",
    "for n in range(1, Nt_points):\n",
    "    # set Dirichlet boundary points here\n",
    "    #...\n",
    "    # compute u at inner mesh points\n",
    "    for i in range(1, Nx_points-1):\n",
    "        for j in range(1,Nx_points -1):\n",
    "\n",
    "            # draw independent random samples for our distribution for wind speed\n",
    "            Bx = wind_speed(x_mean, x_std)*dt/(2*dx)\n",
    "            By = wind_speed(y_mean, y_std)*dt/(2*dx)\n",
    "\n",
    "            u[i][j] = (1-4*C)*u_old[i][j] + (C+Bx)*(u_old[i-1][j]) + (C-Bx)*(u_old[i+1][j]) +  (C+By)*(u_old[i][j-1]) + (C-By)*(u_old[i][j+1])\n",
    "\n",
    "\n",
    "    # update u_old before next step\n",
    "    u_old[:]= u\n",
    "\n",
    "    # copy into full storage\n",
    "    U[n,:,:] = u;"
   ],
   "metadata": {
    "collapsed": false
   }
  },
  {
   "cell_type": "code",
   "execution_count": null,
   "outputs": [],
   "source": [
    "sb.heatmap(U[-1])\n",
    "print(U[-1,16,:])\n",
    "print(U[-1,:,16])\n",
    "# the second has bigger values although they start off smaller. So this is actually y = 16 but seaborn is transposing the plot!"
   ],
   "metadata": {
    "collapsed": false
   }
  },
  {
   "cell_type": "markdown",
   "source": [],
   "metadata": {
    "collapsed": false
   }
  },
  {
   "cell_type": "code",
   "execution_count": null,
   "outputs": [],
   "source": [
    "import seaborn as sb\n",
    "import matplotlib.animation as animation\n",
    "\n",
    "fig = plt.figure(figsize=(10,6))\n",
    "\n",
    "n_xticks = 2**3\n",
    "x_ticks = np.linspace(-Lx, Lx, n_xticks)\n",
    "y_ticks = np.linspace(Ly, -Ly, n_xticks)\n",
    "def animate(i):\n",
    "    data = U[i]\n",
    "    step = int((len(data) -1)/n_xticks)\n",
    "    if i == 0:\n",
    "        p = sb.heatmap(data, cbar = False, annot = False)\n",
    "        p.set_xticks(range(1,len(data),step))\n",
    "        p.set_xticklabels(x_ticks.round(2))\n",
    "        p.set_yticks(range(1,len(data),step))\n",
    "        p.set_yticklabels(y_ticks.round(2))\n",
    "        p.set(xlabel = \"M - direction orthogonal to prevailing wind\")\n",
    "        p.set(ylabel = \"M - direction of prevailing wind\")\n",
    "    else:\n",
    "        p = sb.heatmap(data, cbar = False, annot = False)\n",
    "        p.set_xticks(range(1,len(data),step))\n",
    "        p.set_xticklabels(x_ticks.round(2))\n",
    "        p.set_yticks(range(1,len(data),step))\n",
    "        p.set_yticklabels(y_ticks.round(2))\n",
    "        p.set(xlabel = \"M - direction orthogonal to prevailing wind\")\n",
    "        p.set(ylabel = \"M - direction of prevailing wind\")\n",
    "\n",
    "def init():\n",
    "    p = sb.heatmap(np.zeros((Nx_points,Nx_points)), cbar=True)\n",
    "    p.set(xlabel = \"Distance (km) - x axis\", ylabel = \"Distance (km) - y axis\")\n",
    "\n",
    "ani = animation.FuncAnimation(fig, animate,init_func = init, frames=64,interval=70,repeat=True)\n",
    "\n",
    "ani.save('animation.gif')"
   ],
   "metadata": {
    "collapsed": false
   }
  },
  {
   "cell_type": "markdown",
   "source": [
    "Wind speeds vs concentration (at 10 units away), in the direction of prevailing\n",
    "wind"
   ],
   "metadata": {
    "collapsed": false
   }
  },
  {
   "cell_type": "code",
   "execution_count": null,
   "outputs": [],
   "source": [
    "def sim(x_mean,y_mean, Nt_gaps):\n",
    "    Lx = 0.5  # final distance in x\n",
    "    Ly = 0.5 # final distance in y\n",
    "    T = 1  # final time\n",
    "    Nt_points = Nt_gaps + 1\n",
    "    h = T/(Nt_points)  # time step\n",
    "\n",
    "    t = np.linspace(0.,T,Nt_points)  # times at each time step\n",
    "    Nx_spaces = 2**5; # number of spaces in x direction\n",
    "    Nx_points = Nx_spaces + 1\n",
    "    Ny_points = Nx_points\n",
    "\n",
    "    x_pde = np.linspace(-Lx, Lx, Nx_points)\n",
    "    y_pde = np.linspace(-Ly, Ly, Nx_points)\n",
    "\n",
    "    dx = x_pde[1] - x_pde[0]\n",
    "    dt = t[1] - t[0]\n",
    "\n",
    "    def I(x, y): # initial u(x,0):\n",
    "        result = np.zeros((Nx_points, Ny_points))\n",
    "        i = 0\n",
    "        for x_i in x:\n",
    "            j = 0\n",
    "            for y_i in y:\n",
    "                xy = dist.pdf([x_i,y_i])\n",
    "                result[i][j] = xy\n",
    "                j +=1\n",
    "            i +=1\n",
    "        return result\n",
    "\n",
    "    U =  np.zeros((Nt_points,Nx_points,Ny_points))\n",
    "    u = np.zeros((Nx_points, Ny_points))\n",
    "    u_old = I(x_pde,y_pde)\n",
    "    U[0,:,:] = u_old\n",
    "\n",
    "    # enforcing the boundary condition\n",
    "    U[:,-Lx,:]  = dir0\n",
    "    U[:,Lx,:] = dir1\n",
    "\n",
    "    U[:,:,-Ly]  = dir0\n",
    "    U[:,:,Ly] = dir1\n",
    "\n",
    "\n",
    "    for n in range(1, Nt_points):\n",
    "        # set Dirichlet boundary points here\n",
    "        #...\n",
    "        # compute u at inner mesh points\n",
    "        for i in range(1, Nx_points-1):\n",
    "            for j in range(1,Nx_points -1):\n",
    "\n",
    "                # draw independent random samples for our distribution for wind speed\n",
    "                Bx = wind_speed(x_mean, x_std)*dt/(2*dx)\n",
    "                By = wind_speed(y_mean, y_std)*dt/(2*dx)\n",
    "\n",
    "                u[i][j] = (1-4*C)*u_old[i][j] + (C+Bx)*(u_old[i-1][j]) + (C-Bx)*(u_old[i+1][j]) +  (C+By)*(u_old[i][j-1]) + (C-By)*(u_old[i][j+1])\n",
    "\n",
    "\n",
    "        # update u_old before next step\n",
    "        u_old[:]= u\n",
    "\n",
    "        # copy into full storage\n",
    "        U[n,:,:] = u;\n",
    "    return U"
   ],
   "metadata": {
    "collapsed": false
   }
  },
  {
   "cell_type": "code",
   "execution_count": null,
   "outputs": [],
   "source": [
    "concentrations = []\n",
    "speeds = []\n",
    "\n",
    "y_concentrations = []\n",
    "y_speeds = []\n",
    "\n",
    "negx_concentrations = []\n",
    "negx_speeds = []\n",
    "\n",
    "\n",
    "# change this to include standard deviation as well\n",
    "for s in range(0,31,5):\n",
    "    speed = s/10\n",
    "    U1 = sim(speed, 0, 2**12)\n",
    "    print(speed)\n",
    "    print(U1[-1,:,16])\n",
    "\n",
    "    concentrations.append(U1[-1,24,16])\n",
    "    speeds.append(speed)\n",
    "\n",
    "    y_concentrations.append(U1[-1,16,24])\n",
    "    y_speeds.append(speed)\n",
    "\n",
    "    negx_concentrations.append(U1[-1,8,16])\n",
    "    negx_speeds.append(speed)\n",
    "\n",
    "plt.plot(speeds,concentrations)\n"
   ],
   "metadata": {
    "collapsed": false
   }
  },
  {
   "cell_type": "code",
   "execution_count": null,
   "outputs": [],
   "source": [
    "font = {'family' : 'sans',\n",
    "        'weight' : 'bold',\n",
    "        'size'   : 17}\n",
    "\n",
    "matplotlib.rc('font', **font)\n",
    "\n",
    "plt.figure(0)\n",
    "plt.xlabel('Wind Speed (km/s)')\n",
    "plt.ylabel('Concentration')\n",
    "# - assuming variance of 2.168835495560843 with y_mean = 0\n",
    "plt.title('Concentration vs Mean Wind Speed')\n",
    "plt.plot(speeds,concentrations)\n",
    "plt.savefig('conc_mws_x.pdf',linestyle = ':',bbox_inches='tight',marker = \".\",markersize = 1)\n",
    "\n",
    "plt.figure(1)\n",
    "plt.xlabel('Wind Speed km/s')\n",
    "plt.ylabel('Concentration kg/km^{3}')\n",
    "# - assuming variance of 2.168835495560843 with y_mean = 0\n",
    "plt.title('Concentration vs Mean Wind Speed - Negative Prevailing Wind Direction')\n",
    "plt.plot(negx_speeds, negx_concentrations)\n",
    "plt.savefig('conc_mws_negx.pdf', linestyle = ':',bbox_inches='tight',marker = \".\",markersize = 1)\n",
    "\n",
    "plt.figure(2)\n",
    "plt.xlabel('Wind Speed km/s')\n",
    "plt.ylabel('Concentration')\n",
    "# - assuming variance of 2.168835495560843 with y_mean = 0\n",
    "plt.title('Concentration vs Mean Wind Speed Orthogonal to Prevailing Wind Direction')\n",
    "plt.plot(y_speeds, y_concentrations,linestyle = ':',marker = \".\",markersize = 1)\n",
    "plt.savefig('conc_mws_y.pdf',bbox_inches='tight')"
   ],
   "metadata": {
    "collapsed": false
   }
  },
  {
   "cell_type": "code",
   "execution_count": null,
   "outputs": [],
   "source": [
    "# posx_100_concentrations = []\n",
    "# for s in range(0,100,1):\n",
    "#     U1 = sim(x_mean, y_mean, 2**12)\n",
    "#     posx_100_concentrations.append(U1[-1,24,16])\n"
   ],
   "metadata": {
    "collapsed": false
   }
  },
  {
   "cell_type": "markdown",
   "source": [],
   "metadata": {
    "collapsed": false
   }
  }
 ],
 "metadata": {
  "kernelspec": {
   "display_name": "Python 3 (ipykernel)",
   "language": "python",
   "name": "python3"
  },
  "language_info": {
   "codemirror_mode": {
    "name": "ipython",
    "version": 3
   },
   "file_extension": ".py",
   "mimetype": "text/x-python",
   "name": "python",
   "nbconvert_exporter": "python",
   "pygments_lexer": "ipython3",
   "version": "3.10.2"
  }
 },
 "nbformat": 4,
 "nbformat_minor": 5
}
