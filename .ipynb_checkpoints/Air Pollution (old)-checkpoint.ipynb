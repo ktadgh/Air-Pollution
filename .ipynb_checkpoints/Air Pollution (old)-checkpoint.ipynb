{
 "cells": [
  {
   "cell_type": "code",
   "execution_count": 1,
   "id": "f8e8027c",
   "metadata": {},
   "outputs": [],
   "source": [
    "import numpy as np\n",
    "import matplotlib.pyplot as plt\n",
    "from scipy.stats import norm"
   ]
  },
  {
   "cell_type": "code",
   "execution_count": 2,
   "id": "0f089183",
   "metadata": {},
   "outputs": [],
   "source": [
    "# Initial conditions for Case 1 \n",
    "dir0 = 0.0  # u(0,t)= dir0\n",
    "dir1 = 0.0  # u(inf,t)= dir1\n",
    "\n",
    "# function for setting initial conditions in space\n",
    "def I(x): # initial u(x,0)\n",
    "    result = []\n",
    "    len_x = np.size(x)\n",
    "    i_x = np.zeros(len_x)\n",
    "    for x_i in x:\n",
    "        i_x = norm.pdf(x_i, 0, 1/(2**3))\n",
    "        result.append(i_x)\n",
    "    return result\n"
   ]
  },
  {
   "cell_type": "code",
   "execution_count": 3,
   "id": "b7bd6b91",
   "metadata": {},
   "outputs": [
    {
     "name": "stdout",
     "output_type": "stream",
     "text": [
      "Delta x = 0.04761904761904767 Delta t =  0.0009765625 C = 0.43066406249999906\n"
     ]
    }
   ],
   "source": [
    "## ====== setting parameters =======\n",
    "         # final time \n",
    "Nt_gaps =   2**10  # number of timesteps\n",
    "L = 2**50  # final distance\n",
    "T = 1\n",
    "Nt_points = Nt_gaps + 1\n",
    "h = T/(Nt_points)  # time step\n",
    "\n",
    "\n",
    "\n",
    "t = np.linspace(0.,T,Nt_points)  # times at each time step\n",
    "Nx_spaces = 2*21; # number of spaces in x direction\n",
    "Nx_points = Nx_spaces + 1 \n",
    "L = 1; \n",
    "x_pde = np.linspace(-L, L, Nx_points)    # mesh points in space\n",
    "dx = x_pde[1] - x_pde[0] \n",
    "dt = t[1] - t[0]\n",
    "C = dt/(dx**2)\n",
    "v = 2**9\n",
    "B = v*dt/(2*dx)\n",
    "print(\"Delta x =\", dx, \"Delta t = \", dt, \"C =\", C)\n",
    "##----------intialise lists ------------------------\n",
    "\n",
    "# Define the numerical solution \n",
    "# the first index is space and the second time\n",
    "U = np.zeros((Nx_points,Nt_points))\n",
    "\n",
    "# The initial condition\n",
    "U[:,0]=I(x_pde)\n",
    "\n",
    "# enforcing the boundary condition\n",
    "U[-L,0]  = dir0 \n",
    "U[L,0] = dir1"
   ]
  },
  {
   "cell_type": "code",
   "execution_count": 4,
   "id": "8cbfb789",
   "metadata": {},
   "outputs": [],
   "source": [
    "def plotting(U,L):\n",
    "    size_t = np.size(U,1)-1 # number of time steps\n",
    "   \n",
    "    fig, ax = plt.subplots(1, 1, figsize=(10, 8))\n",
    "    markers =['X','.','+','o']\n",
    "\n",
    "    colours = ['r','g','b','purple','yellow'] # make comparison easy\n",
    "    colour_pos = 0;\n",
    "\n",
    "    N_dots = 20\n",
    "    x_dots = np.linspace(0, L, N_dots+1)    # spacial points to plot exact solution at\n",
    "\n",
    "# some arbitarily chosen time points to compare at\n",
    "    for plot_pos in [0, int(size_t/10),int(size_t/5), int(size_t/2), int(size_t)]:\n",
    "\n",
    "    # numerical solution\n",
    "        label = \"Numerical PDE, t=\" + \"%0.3f\" % (t[plot_pos],)\n",
    "        ax.plot(x_pde,U[:,plot_pos],color = colours[colour_pos],ls='--', label=label)\n",
    "        colour_pos = colour_pos + 1;\n",
    "    \n",
    "\n",
    "    plt.xlim(0,L) # zoom in on area of interest\n",
    "    ax.legend() # turn on legend \n",
    "    plt.show()"
   ]
  },
  {
   "cell_type": "code",
   "execution_count": 5,
   "id": "bf837407",
   "metadata": {},
   "outputs": [
    {
     "name": "stdout",
     "output_type": "stream",
     "text": [
      "(43, 1025)\n"
     ]
    },
    {
     "name": "stderr",
     "output_type": "stream",
     "text": [
      "C:\\Users\\Administrator\\AppData\\Local\\Temp\\ipykernel_3488\\2681386882.py:14: RuntimeWarning: overflow encountered in double_scalars\n",
      "  u[i] = (1-2*C)*u_old[i] + (C+B)*(u_old[i-1]) - (C-B)*(u_old[i+1])\n"
     ]
    },
    {
     "data": {
      "image/png": "[encoded data removed]",
      "text/plain": [
       "<Figure size 720x576 with 1 Axes>"
      ]
     },
     "metadata": {
      "needs_background": "light"
     },
     "output_type": "display_data"
    }
   ],
   "source": [
    "u_old = I(x_pde)\n",
    "\n",
    "u = np.zeros(Nx_points)\n",
    "# and to store the full solution\n",
    "U = np.zeros((Nx_points,Nt_points))\n",
    "U[:,0] = u_old\n",
    "\n",
    "for n in range(1, Nt_points):\n",
    "    \n",
    "    # set Dirichlet boundary points here\n",
    "    #...\n",
    "    # compute u at inner mesh points\n",
    "    for i in range(1, Nx_points-1):\n",
    "        u[i] = (1-2*C)*u_old[i] + (C+B)*(u_old[i-1]) - (C-B)*(u_old[i+1])\n",
    " \n",
    "    # update u_old before next step\n",
    "    u_old[:]= u\n",
    "\n",
    "    # copy into full storage\n",
    "    U[:,n] = u;\n",
    "print(U.shape)\n",
    "plotting(U,L)\n"
   ]
  },
  {
   "cell_type": "code",
   "execution_count": 6,
   "id": "24a4b410",
   "metadata": {},
   "outputs": [],
   "source": [
    "import matplotlib.pyplot as plt\n",
    "import matplotlib.animation\n",
    "\n"
   ]
  },
  {
   "cell_type": "code",
   "execution_count": 7,
   "id": "25738c84",
   "metadata": {},
   "outputs": [
    {
     "data": {
      "text/plain": [
       "(0.0, 1.0, 0.0, 1.0)"
      ]
     },
     "execution_count": 7,
     "metadata": {},
     "output_type": "execute_result"
    },
    {
     "data": {
      "image/png": "[encoded data removed]",
      "text/plain": [
       "<Figure size 432x288 with 1 Axes>"
      ]
     },
     "metadata": {
      "needs_background": "light"
     },
     "output_type": "display_data"
    }
   ],
   "source": [
    "# set up animation plots\n",
    "fig, ax = plt.subplots()\n",
    "ax.axis([0,1,0,1])\n"
   ]
  },
  {
   "cell_type": "code",
   "execution_count": 8,
   "id": "6a9cf2c9",
   "metadata": {},
   "outputs": [],
   "source": [
    "def animate(i):\n",
    "    l.set_data(x_pde, U[:,i])\n",
    "\n"
   ]
  },
  {
   "cell_type": "code",
   "execution_count": 9,
   "id": "fc14a45a",
   "metadata": {},
   "outputs": [],
   "source": [
    "\n",
    "l, = ax.plot([],[],':r')\n",
    "ani2 = matplotlib.animation.FuncAnimation(fig, animate, frames=Nt_points)\n",
    "\n"
   ]
  },
  {
   "cell_type": "code",
   "execution_count": 10,
   "id": "d67cfe07",
   "metadata": {},
   "outputs": [],
   "source": [
    "from IPython.display import HTML\n"
   ]
  },
  {
   "cell_type": "code",
   "execution_count": null,
   "id": "492e42e8",
   "metadata": {},
   "outputs": [],
   "source": [
    "HTML(ani2.to_jshtml())"
   ]
  }
 ],
 "metadata": {
  "kernelspec": {
   "display_name": "Python 3 (ipykernel)",
   "language": "python",
   "name": "python3"
  },
  "language_info": {
   "codemirror_mode": {
    "name": "ipython",
    "version": 3
   },
   "file_extension": ".py",
   "mimetype": "text/x-python",
   "name": "python",
   "nbconvert_exporter": "python",
   "pygments_lexer": "ipython3",
   "version": "3.10.2"
  }
 },
 "nbformat": 4,
 "nbformat_minor": 5
}
