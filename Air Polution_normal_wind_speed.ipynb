{
 "cells": [
  {
   "cell_type": "code",
   "execution_count": 1,
   "id": "9d69826d",
   "metadata": {},
   "outputs": [],
   "source": [
    "import numpy as np\n",
    "import matplotlib\n",
    "import matplotlib.pyplot as plt\n",
    "from scipy.stats import norm\n",
    "from scipy.stats import multivariate_normal\n",
    "from numpy.random import normal\n",
    "import scipy\n",
    "import math\n",
    "from matplotlib import animation\n",
    "import seaborn as sb\n",
    "plt.style.use('ggplot')\n"
   ]
  },
  {
   "cell_type": "code",
   "execution_count": 2,
   "id": "3f72418d",
   "metadata": {},
   "outputs": [],
   "source": [
    "# Initial conditions for Case 1 and exact solution\n",
    "dir0 = 0.0  # u(-L,t)= dir0\n",
    "dir1 = 0.0  # u(L,t)= dir1\n",
    "\n",
    "# function for setting initial conditions in space\n",
    "def I(x): # initial u(x,0)\n",
    "    result = []\n",
    "    len_x = np.size(x)\n",
    "    i_x = np.zeros(len_x)\n",
    "    for x_i in x:\n",
    "        i_x = norm.pdf(x_i, 0, 1/(2**2))\n",
    "        result.append(i_x)\n",
    "    return result\n",
    "\n",
    "\n",
    "#Note - I'm assuming D=1\n",
    "def U_exact(x,t):\n",
    "    M = np.size(x)\n",
    "    u_ex = np.zeros(M)\n",
    "    if t == 0:\n",
    "        u_ex = norm.pdf(x,0,1/(2**2))\n",
    "    else:\n",
    "        y = x - v*t\n",
    "        u_ex = np.exp(-y**2/(4*t))/np.sqrt(4*np.pi*t)\n",
    "        u_ex[0] = dir0\n",
    "        u_ex[M-1] = dir1\n",
    "    return u_ex"
   ]
  },
  {
   "cell_type": "markdown",
   "id": "b82977bf",
   "metadata": {},
   "source": [
    "## Using the normally distributed wind speeds"
   ]
  },
  {
   "cell_type": "code",
   "execution_count": 3,
   "id": "c02e5f3e",
   "metadata": {},
   "outputs": [],
   "source": [
    "# Defining the wind speed function\n",
    "#def wind_speed(shape, scale):\n",
    "    # using a weibull with parameter k as an example, we can change it when we have data\n",
    "#    return np.random.weibull(shape)*scale\n",
    "\n",
    "\n",
    "# setting the distributions to be equal to those given in the wind_distribution file.\n",
    "x_mean = 2.0046153468353722\n",
    "x_std = 2.168835495560843\n",
    "\n",
    "y_mean = 1.0209864186943514*np.exp(-16)\n",
    "y_std = 2.901290755064771\n",
    "#\n",
    "# x_mean *= 100\n",
    "# x_std *= 100\n",
    "# y_mean *= 100\n",
    "# y_std *= 100\n",
    "\n",
    "def wind_speed(mean, std):\n",
    "    # using a weibull with parameter k as an example, we can change it when we have data\n",
    "    return normal(loc = mean, scale = std)"
   ]
  },
  {
   "cell_type": "code",
   "execution_count": 4,
   "id": "85c9ce86",
   "metadata": {},
   "outputs": [
    {
     "name": "stdout",
     "output_type": "stream",
     "text": [
      "Delta x = 0.25 Delta t =  0.000244140625 C = 0.00390625\n"
     ]
    }
   ],
   "source": [
    "## ====== setting parameters =======\n",
    "Nt_gaps = 2**12  # number of timesteps\n",
    "L = 2**5 # final distance\n",
    "T = 1  # final time \n",
    "Nt_points = Nt_gaps + 1\n",
    "h = T/(Nt_points)  # time step\n",
    "\n",
    "t = np.linspace(0.,T,Nt_points)  # times at each time step\n",
    "Nx_spaces = 2**8; # number of spaces in x direction\n",
    "\n",
    "Nx_points = Nx_spaces + 1 \n",
    "x_pde = np.linspace(-L, L, Nx_points)    # mesh points in space\n",
    "dx = x_pde[1] - x_pde[0]\n",
    "dt = t[1] - t[0]\n",
    "\n",
    "# Setting B, C and v for the numerical soultions\n",
    "C = dt/(dx**2)\n",
    "v = 15\n",
    "B = v*dt/(2*dx)\n",
    "print(\"Delta x =\", dx, \"Delta t = \", dt, \"C =\", C)\n",
    "\n",
    "\n",
    "##----------intialise lists ------------------------\n",
    "# Define the numerical solution \n",
    "# the first index is space and the second time\n",
    "U = np.zeros((Nx_points,Nt_points))\n",
    "\n",
    "# The initial condition\n",
    "U[:,0]=I(x_pde)\n",
    "# enforcing the boundary condition\n",
    "U[-L,:]  = dir0 \n",
    "U[L,:] = dir1"
   ]
  },
  {
   "cell_type": "code",
   "execution_count": 5,
   "id": "f7f442cd",
   "metadata": {
    "scrolled": true
   },
   "outputs": [],
   "source": [
    "x_ex = np.linspace(-L, L, Nx_points)\n",
    "def plotting(U,L,type):\n",
    "    size_t = np.size(U,1)-1 # number of time steps\n",
    "   \n",
    "    fig, ax = plt.subplots(1, 1, figsize=(10, 8))\n",
    "    markers =['X','.','+','o']\n",
    "\n",
    "    colours = ['r','g','b','purple','yellow'] # make comparison easy\n",
    "    colours1 = ['b','purple','yellow','r','g',]\n",
    "    colour_pos = 0;\n",
    "\n",
    "\n",
    "\n",
    "# some arbitarily chosen time points to compare at\n",
    "    for plot_pos in [0, int(size_t/10),int(size_t/5), int(size_t/2), int(size_t)]:\n",
    "        if type == \"exact\":\n",
    "            U_tplot = U_exact(x_ex,t[plot_pos])\n",
    "            label = \"Exact, t=\" + \"%0.3f\" % (t[plot_pos],)\n",
    "            ax.plot(x_ex,U_tplot,linestyle = ':',color = colours[colour_pos],marker = \".\",markersize = 1, label=label)\n",
    "            colour_pos = colour_pos + 1;\n",
    "    # numerical solution\n",
    "        else:\n",
    "            label = \"Numerical PDE, t=\" + \"%0.3f\" % (t[plot_pos],)\n",
    "            ax.plot(x_pde,U[:,plot_pos],color = colours[colour_pos],ls='--', label=label)\n",
    "            colour_pos = colour_pos + 1;\n",
    "\n",
    "    plt.xlim(-L,L) # zoom in on area of interest\n",
    "    ax.legend() # turn on legend \n",
    "    plt.show()"
   ]
  },
  {
   "cell_type": "code",
   "execution_count": 6,
   "id": "19aaabcf",
   "metadata": {},
   "outputs": [],
   "source": [
    "# u_old = I(x_pde)\n",
    "#\n",
    "# u = np.zeros(Nx_points)\n",
    "# # and to store the full solution\n",
    "# U = np.zeros((Nx_points,Nt_points))\n",
    "# U[:,0] = u_old\n",
    "# for n in range(1, Nt_points):\n",
    "#     # set Dirichlet boundary points here\n",
    "#     #...\n",
    "#     # compute u at inner mesh points\n",
    "#     for i in range(1, Nx_points-1):\n",
    "#         u[i] = (1-2*C)*u_old[i] + (C+B)*(u_old[i-1]) + (C-B)*(u_old[i+1])\n",
    "#\n",
    "#     # update u_old before next step\n",
    "#     u_old[:]= u\n",
    "#\n",
    "#     # copy into full storage\n",
    "#     U[:,n] = u;\n",
    "# print(U.shape)\n",
    "# plotting(U,L, \"exact\")\n",
    "# plotting(U,L, \"numerical\")"
   ]
  },
  {
   "cell_type": "code",
   "execution_count": 7,
   "id": "377e2b24",
   "metadata": {},
   "outputs": [],
   "source": [
    "#Note - I'm assuming D=1\n",
    "#def U_exact(x,t):\n",
    "#    M = np.size(x)\n",
    "#    u_ex = np.zeros(M)\n",
    "#    for x_i in x:\n",
    "#        if t == 0:\n",
    "#            x_i = norm.pdf(x[i], 0, 1/(2**12))\n",
    "#    else:\n",
    "#        x_i = 1/(2*np.pi*t)*np.exp(-x**2/(4*t))\n",
    "#    return u_ex"
   ]
  },
  {
   "cell_type": "markdown",
   "id": "bab88b61",
   "metadata": {},
   "source": [
    "# Extending to 2D"
   ]
  },
  {
   "cell_type": "code",
   "execution_count": 103,
   "id": "e1ed0546",
   "metadata": {},
   "outputs": [
    {
     "name": "stdout",
     "output_type": "stream",
     "text": [
      "Delta x = 2000.0 Delta t =  6.103515625 C = 3.1738281249999993e-11\n",
      "2.0046153468353722\n"
     ]
    }
   ],
   "source": [
    "# ====== setting parameters =======\n",
    "Nt_gaps = int(2**14)  # number of timesteps\n",
    "Lx = 100000  # final distance in x\n",
    "Ly = 100000  # final distance in y\n",
    "T = 100000 # final time\n",
    "Nt_points = Nt_gaps + 1\n",
    "h = T/(Nt_points)  # time step\n",
    "\n",
    "t = np.linspace(0.,T,Nt_points)  # times at each time step\n",
    "Nx_spaces = 100; # number of spaces in x direction\n",
    "Ny_spaces = Nx_spaces\n",
    "Nx_points = Nx_spaces + 1\n",
    "Ny_points = Ny_spaces + 1\n",
    "\n",
    "x_pde = np.linspace(-Lx, Ly, Nx_points)\n",
    "y_pde = np.linspace(-Lx, Ly, Ny_points)\n",
    "\n",
    "dx = x_pde[1] - x_pde[0]\n",
    "dy = y_pde[1] - x_pde[0]\n",
    "dt = t[1] - t[0]\n",
    "\n",
    "# Setting B, C and v for the numerical soultions\n",
    "D = 0.208/10000\n",
    "C = D*dt/(dx**2)\n",
    "#vx = 5\n",
    "#vy = 5\n",
    "#Bx = vx*dt/(2*dx)\n",
    "#By = vy*dt/(2*dx)\n",
    "print(\"Delta x =\", dx, \"Delta t = \", dt, \"C =\", C)\n",
    "print(x_mean)"
   ]
  },
  {
   "cell_type": "markdown",
   "source": [
    "# Tring a UPFD method"
   ],
   "metadata": {
    "collapsed": false
   }
  },
  {
   "cell_type": "code",
   "execution_count": 9,
   "outputs": [],
   "source": [
    "D_hat = D/dx**2\n"
   ],
   "metadata": {
    "collapsed": false
   }
  },
  {
   "cell_type": "code",
   "execution_count": 99,
   "outputs": [],
   "source": [
    "def calculate_upfd(u):\n",
    "    nk, ni, nj = u.shape\n",
    "    print(nk-1)\n",
    "    vx, vy = wind_speed(x_mean, x_std), wind_speed(y_mean, y_std)\n",
    "    vx_hat, vy_hat = -vx/dx, -vy/dx\n",
    "    Fx = 1/dt + vx_hat + 2*D_hat\n",
    "    Fy = 1/dt + vy_hat + 2*D_hat\n",
    "    for k in range(0, nk -1):\n",
    "        if k % 1000 ==0:\n",
    "            print(k)\n",
    "        if k*dt*60 % 2 == 0:\n",
    "            vx, vy = wind_speed(x_mean, x_std), wind_speed(y_mean, y_std)\n",
    "            vx_hat, vy_hat = vx/dx, vy/dx\n",
    "            Fx = 1/dt + vx_hat + 2*D_hat\n",
    "            Fy = 1/dt + vy_hat + 2*D_hat\n",
    "        if vx >= 0:\n",
    "            vx_hat_1 = vx_hat\n",
    "            vx_hat_2 = 0\n",
    "        else:\n",
    "            vx_hat_1 = 0\n",
    "            vx_hat_2 = vx_hat\n",
    "        if vy >= 0:\n",
    "            vy_hat_1 = vy_hat\n",
    "            vy_hat_2 = 0\n",
    "        else:\n",
    "            vy_hat_1 = 0\n",
    "            vy_hat_2 = vy_hat\n",
    "        local_maps = np.lib.stride_tricks.sliding_window_view(u[k], (3,3))\n",
    "        kernel = np.array([\n",
    "            [0, (vx_hat + D_hat)/Fx, 0],\n",
    "            [(vy_hat_1 + D_hat)/Fy, 1/Fx*dt + 1/Fy*dt, (D_hat+vy_hat_2)/Fy],\n",
    "            [0, (D_hat+vx_hat_2)/Fx, 0]])\n",
    "\n",
    "        #print(kernel)\n",
    "        # sum the product of the kernel and each map\n",
    "        # and sum each local map\n",
    "        result = np.sum(kernel * local_maps, axis=(2,3))\n",
    "        u[k+1, 1:-1, 1:-1] = result\n",
    "    return u\n"
   ],
   "metadata": {
    "collapsed": false
   }
  },
  {
   "cell_type": "code",
   "execution_count": 104,
   "id": "86b804fd",
   "metadata": {},
   "outputs": [],
   "source": [
    "# Note - how do we justify choice of covariance?\n",
    "dist = multivariate_normal(mean=[0,0], cov=[[1/10,0],[0,1/10]])\n",
    "\n",
    "# function for setting initial conditions in 2D space\n",
    "def I(x, y): # initial u(x,0):\n",
    "    result = np.zeros((Nx_points, Ny_points))\n",
    "    i = 0\n",
    "    for x_i in x:\n",
    "        j = 0\n",
    "        for y_i in y:\n",
    "            xy = dist.pdf([x_i,y_i])\n",
    "            result[i][j] = xy\n",
    "            j +=1\n",
    "        i +=1\n",
    "    return result"
   ]
  },
  {
   "cell_type": "code",
   "execution_count": 118,
   "outputs": [],
   "source": [
    "def calculate(u):\n",
    "    nk, ni, nj = u.shape\n",
    "    print(nk-1)\n",
    "    Bx = wind_speed(x_mean, x_std)*dt/(2*dx)\n",
    "    By = wind_speed(y_mean, y_std)*dt/(2*dx)\n",
    "    if Bx >= 0:\n",
    "        Bx1 = 0\n",
    "        Bx2 = -Bx\n",
    "        Bx3 = Bx\n",
    "    else:\n",
    "        Bx1 = -Bx\n",
    "        Bx2 = Bx\n",
    "        Bx3 = 0\n",
    "\n",
    "    if By >= 0:\n",
    "        By1 = 0\n",
    "        By2 = -By\n",
    "        By3 = By\n",
    "    else:\n",
    "        By1 = -By\n",
    "        By2 = By\n",
    "        By3 = 0\n",
    "    for k in range(0, nk -1):\n",
    "        local_maps = np.lib.stride_tricks.sliding_window_view(u[k], (3,3))\n",
    "        if k % 1000 ==0:\n",
    "            print(k)\n",
    "        Bx = wind_speed(x_mean, x_std)*dt/(2*dx)\n",
    "        By = wind_speed(y_mean, y_std)*dt/(2*dx)\n",
    "        if Bx >= 0:\n",
    "            Bx1 = 0\n",
    "            Bx2 = -Bx\n",
    "            Bx3 = Bx\n",
    "        else:\n",
    "            Bx1 = -Bx\n",
    "            Bx2 = Bx\n",
    "            Bx3 = 0\n",
    "        if By >= 0:\n",
    "            By1 = 0\n",
    "            By2 = -By\n",
    "            By3 = By\n",
    "        else:\n",
    "            By1 = -By\n",
    "            By2 = By\n",
    "            By3 = 0\n",
    "        kernel = np.array([\n",
    "            [0, C+Bx1, 0],\n",
    "            [C+By1, 1-(4*C)+Bx2+By2, C+By3],\n",
    "            [0, C+Bx3, 0]])\n",
    "        # sum the product of the kernel and each map\n",
    "        # and sum each local map\n",
    "        result = np.sum(kernel * local_maps, axis=(2,3))\n",
    "        u[k+1, 1:-1, 1:-1] = result\n",
    "    return u"
   ],
   "metadata": {
    "collapsed": false
   }
  },
  {
   "cell_type": "code",
   "execution_count": 119,
   "outputs": [
    {
     "name": "stdout",
     "output_type": "stream",
     "text": [
      "16384\n",
      "0\n",
      "1000\n",
      "2000\n",
      "3000\n",
      "4000\n",
      "5000\n",
      "6000\n",
      "7000\n",
      "8000\n",
      "9000\n",
      "10000\n",
      "11000\n",
      "12000\n",
      "13000\n",
      "14000\n",
      "15000\n",
      "16000\n"
     ]
    }
   ],
   "source": [
    "U =  np.zeros((Nt_points,Nx_points,Ny_points))\n",
    "u = np.zeros((Nx_points, Ny_points))\n",
    "u_old = I(x_pde,y_pde)\n",
    "U[0,:,:] = u_old\n",
    "U = calculate(U)"
   ],
   "metadata": {
    "collapsed": false
   }
  },
  {
   "cell_type": "markdown",
   "source": [
    "Generating a plot of the max concentration halfway down the y axis vs windspeed"
   ],
   "metadata": {
    "collapsed": false
   }
  },
  {
   "cell_type": "code",
   "execution_count": null,
   "outputs": [],
   "source": [],
   "metadata": {
    "collapsed": false
   }
  },
  {
   "cell_type": "code",
   "execution_count": 130,
   "outputs": [
    {
     "data": {
      "text/plain": "<Figure size 432x288 with 2 Axes>",
      "image/png": "[encoded data removed]"
     },
     "metadata": {},
     "output_type": "display_data"
    }
   ],
   "source": [
    "data = U[-1]\n",
    "p = sb.heatmap(data, cbar = True, annot = False)\n",
    "plt.title(\"Concentration in space 100,000 seconds after release\")\n",
    "plt.xticks(ticks, rotation = 45)\n",
    "p.set_xticklabels(np.round(tick_labels,2))\n",
    "plt.yticks(ticks)\n",
    "p.set_yticklabels(np.round(tick_labels,2))\n",
    "p.set(xlabel = \"Distance (km) - direction orthogonal to prevailing wind\")\n",
    "p.invert_yaxis()\n",
    "p.set(ylabel = \"Distance (km) - direction of prevailing wind\")\n",
    "plt.savefig(\"100km after 100,000 seconds\",bbox_inches='tight')"
   ],
   "metadata": {
    "collapsed": false
   }
  },
  {
   "cell_type": "code",
   "execution_count": null,
   "outputs": [],
   "source": [
    "U_halfway ="
   ],
   "metadata": {
    "collapsed": false
   }
  },
  {
   "cell_type": "code",
   "execution_count": null,
   "id": "1be117e2",
   "metadata": {},
   "outputs": [],
   "source": [
    "U =  np.zeros((Nt_points,Nx_points,Ny_points))\n",
    "u = np.zeros((Nx_points, Ny_points))\n",
    "u_old = I(x_pde,y_pde)\n",
    "U[0,:,:] = u_old\n",
    "\n",
    "# enforcing the boundary condition\n",
    "U[:,0,:]  = dir0\n",
    "U[:,-1,:] = dir1\n",
    "\n",
    "U[:,:,0] = dir0\n",
    "U[:,:,-1] = dir1\n",
    "\n",
    "print(\"Nt_points: \", Nt_points)\n",
    "for n in range(1, Nt_points):\n",
    "    if n % 100 == 0:\n",
    "        print(\"n = \",n)\n",
    "    # set Dirichlet boundary points here\n",
    "    U[:,0,:]  = dir0\n",
    "    U[:,-1,:] = dir1\n",
    "\n",
    "    U[:,:,0] = dir0\n",
    "    U[:,:,-1] = dir1\n",
    "    # draw independent random samples for our distribution for wind speed\n",
    "    Bx = wind_speed(x_mean, x_std)*dt/(2*dx)\n",
    "    By = wind_speed(y_mean, y_std)*dt/(2*dx)\n",
    "    # compute u at inner mesh points\n",
    "    for i in range(1, Nx_points-1):\n",
    "        for j in range(1,Nx_points -1):\n",
    "\n",
    "\n",
    "\n",
    "            u[i][j] = (1-4*C)*u_old[i][j] + (C+Bx)*(u_old[i-1][j]) + (C-Bx)*(u_old[i+1][j]) +  (C+By)*(u_old[i][j-1]) + (C-By)*(u_old[i][j+1])\n",
    "\n",
    "\n",
    "    # update u_old before next step\n",
    "    u_old[:]= u\n",
    "\n",
    "    # copy into full storage\n",
    "    U[n,:,:] = u;\n"
   ]
  },
  {
   "cell_type": "code",
   "execution_count": null,
   "id": "a4c88dfe",
   "metadata": {},
   "outputs": [],
   "source": [
    "sb.heatmap(U[1000])\n",
    "# the second has bigger values although they start off smaller. So this is actually y = 16 but seaborn is transposing the plot!"
   ]
  },
  {
   "cell_type": "markdown",
   "id": "5f78d87d",
   "metadata": {},
   "source": []
  },
  {
   "cell_type": "code",
   "execution_count": 131,
   "id": "d47dfc7c",
   "metadata": {},
   "outputs": [
    {
     "name": "stderr",
     "output_type": "stream",
     "text": [
      "MovieWriter ffmpeg unavailable; using Pillow instead.\n"
     ]
    },
    {
     "data": {
      "text/plain": "<Figure size 720x432 with 2 Axes>",
      "image/png": "[encoded data removed]"
     },
     "metadata": {},
     "output_type": "display_data"
    }
   ],
   "source": [
    "import seaborn as sb\n",
    "import matplotlib.animation as animation\n",
    "\n",
    "fig = plt.figure(figsize=(10,6))\n",
    "\n",
    "n_xticks = 11\n",
    "tick_labels = np.linspace(-100, 100, n_xticks)\n",
    "ticks = np.linspace(0, 100, n_xticks)\n",
    "def animate(i):\n",
    "    data = U[i*160]\n",
    "\n",
    "    if i == 0:\n",
    "        p = sb.heatmap(data, cbar = False, annot = False)\n",
    "        plt.xticks(ticks, rotation = 45)\n",
    "        p.set_xticklabels(np.round(tick_labels,2))\n",
    "        plt.yticks(ticks)\n",
    "        plt.title(\"Concentration in space 100,000 seconds after release\")\n",
    "        p.set_yticklabels(np.round(tick_labels,2))\n",
    "        p.set(xlabel = \"Distance (m) - direction orthogonal to prevailing wind\")\n",
    "        p.invert_yaxis()\n",
    "        p.set(ylabel = \"Distance (m) - direction of prevailing wind\")\n",
    "    else:\n",
    "        p = sb.heatmap(data, cbar = False, annot = False)\n",
    "        plt.xticks(ticks, rotation = 45)\n",
    "        p.set_xticklabels(np.round(tick_labels,2))\n",
    "        plt.yticks(ticks)\n",
    "        p.set_yticklabels(np.round(tick_labels,2))\n",
    "        p.set(xlabel = \"Distance (m) - direction orthogonal to prevailing wind\")\n",
    "        p.invert_yaxis()\n",
    "        p.set(ylabel = \"Distance (m) - direction of prevailing wind\")\n",
    "\n",
    "def init():\n",
    "    p = sb.heatmap(np.zeros((Nx_points,Nx_points)), cbar=True)\n",
    "\n",
    "ani = animation.FuncAnimation(fig, animate,init_func = init, frames=100,interval=1,repeat=True)\n",
    "\n",
    "ani.save('animation_edit-1252.gif')"
   ]
  },
  {
   "cell_type": "markdown",
   "id": "791237d5",
   "metadata": {},
   "source": [
    "Wind speeds vs concentration (at 10 units away), in the direction of prevailing\n",
    "wind"
   ]
  },
  {
   "cell_type": "code",
   "execution_count": null,
   "id": "cf1738e1",
   "metadata": {},
   "outputs": [],
   "source": [
    "def sim(x_mean,y_mean, Nt_gaps):\n",
    "    Lx = 4  # final distance in x\n",
    "    Ly = 4  # final distance in y\n",
    "    T = 1  # final time\n",
    "    Nt_points = Nt_gaps + 1\n",
    "    h = T/(Nt_points)  # time step\n",
    "\n",
    "    t = np.linspace(0.,T,Nt_points)  # times at each time step\n",
    "    Nx_spaces = 2**5; # number of spaces in x direction\n",
    "    Nx_points = Nx_spaces + 1\n",
    "    Ny_points = Nx_points\n",
    "\n",
    "    x_pde = np.linspace(-Lx, Lx, Nx_points)\n",
    "    y_pde = np.linspace(-Ly, Ly, Nx_points)\n",
    "\n",
    "    dx = x_pde[1] - x_pde[0]\n",
    "    dt = t[1] - t[0]\n",
    "\n",
    "    def I(x, y): # initial u(x,0):\n",
    "        result = np.zeros((Nx_points, Ny_points))\n",
    "        i = 0\n",
    "        for x_i in x:\n",
    "            j = 0\n",
    "            for y_i in y:\n",
    "                xy = dist.pdf([x_i,y_i])\n",
    "                result[i][j] = xy\n",
    "                j +=1\n",
    "            i +=1\n",
    "        return result\n",
    "\n",
    "    U =  np.zeros((Nt_points,Nx_points,Ny_points))\n",
    "    u = np.zeros((Nx_points, Ny_points))\n",
    "    u_old = I(x_pde,y_pde)\n",
    "    U[0,:,:] = u_old\n",
    "\n",
    "    # enforcing the boundary condition\n",
    "    U[:,0,:]  = dir0\n",
    "    U[:,-1,:] = dir1\n",
    "\n",
    "    U[:,:,0]  = dir0\n",
    "    U[:,:,-1] = dir1\n",
    "\n",
    "\n",
    "    for n in range(1, Nt_points):\n",
    "        # set Dirichlet boundary points here\n",
    "        #...\n",
    "        # compute u at inner mesh points\n",
    "        for i in range(1, Nx_points-1):\n",
    "            for j in range(1,Nx_points -1):\n",
    "\n",
    "                # draw independent random samples for our distribution for wind speed\n",
    "                Bx = wind_speed(x_mean, x_std)*dt/(2*dx)\n",
    "                By = wind_speed(y_mean, y_std)*dt/(2*dx)\n",
    "\n",
    "                u[i][j] = (1-4*C)*u_old[i][j] + (C+Bx)*(u_old[i-1][j]) + (C-Bx)*(u_old[i+1][j]) +  (C+By)*(u_old[i][j-1]) + (C-By)*(u_old[i][j+1])\n",
    "\n",
    "\n",
    "        # update u_old before next step\n",
    "        u_old[:]= u\n",
    "\n",
    "        # copy into full storage\n",
    "        U[n,:,:] = u;\n",
    "    return U"
   ]
  },
  {
   "cell_type": "code",
   "execution_count": null,
   "id": "3cf2a5c7",
   "metadata": {},
   "outputs": [],
   "source": [
    "# Making some plots\n",
    "\n",
    "concentrations = []\n",
    "speeds = []\n",
    "y_concentrations = []\n",
    "y_speeds = []\n",
    "negx_concentrations = []\n",
    "negx_speeds = []\n",
    "\n",
    "\n",
    "# change this to include standard deviation as well\n",
    "for s in range(0,31,5):\n",
    "    speed = s/10\n",
    "    U1 = sim(speed, 0, 2**12)\n",
    "    print(speed)\n",
    "    concentrations.append(U1[-1,24,16])\n",
    "    speeds.append(speed)\n",
    "    y_concentrations.append(U1[-1,16,24])\n",
    "    y_speeds.append(speed)\n",
    "    negx_concentrations.append(U1[-1,8,16])\n",
    "    negx_speeds.append(speed)"
   ]
  },
  {
   "cell_type": "code",
   "execution_count": null,
   "id": "1219c6bf",
   "metadata": {},
   "outputs": [],
   "source": [
    "font = {'family' : 'sans',\n",
    "        'weight' : 'bold',\n",
    "        'size'   : 17}\n",
    "\n",
    "matplotlib.rc('font', **font)\n",
    "\n",
    "plt.figure(0)\n",
    "plt.xlabel('Wind Speed')\n",
    "plt.ylabel('Concentration')\n",
    "# - assuming variance of 2.168835495560843 with y_mean = 0\n",
    "plt.title('Concentration vs Mean Wind Speed')\n",
    "plt.plot(speeds,concentrations)\n",
    "plt.savefig('gg_conc_mws_x.pdf',bbox_inches='tight')\n",
    "\n",
    "\n",
    "plt.figure(1)\n",
    "plt.xlabel('Wind Speed')\n",
    "plt.ylabel('Concentration')\n",
    "# - assuming variance of 2.168835495560843 with y_mean = 0\n",
    "plt.title('Concentration vs Mean Wind Speed Orthogonal to Prevailing Wind Direction')\n",
    "plt.plot(y_speeds, y_concentrations)\n",
    "plt.savefig('gg_conc_mws_y.pdf',bbox_inches='tight')\n",
    "\n",
    "plt.figure(2)\n",
    "plt.xlabel('Wind Speed')\n",
    "plt.ylabel('Concentration')\n",
    "# - assuming variance of 2.168835495560843 with y_mean = 0\n",
    "plt.title('Concentration vs Mean Wind Speed in the Negative Prevailing Wind Direction')\n",
    "plt.plot(y_speeds, y_concentrations)\n",
    "plt.savefig('gg_conc_mws_negx.pdf',bbox_inches='tight')"
   ]
  },
  {
   "cell_type": "code",
   "execution_count": null,
   "id": "56bb3c5a",
   "metadata": {},
   "outputs": [],
   "source": []
  },
  {
   "cell_type": "code",
   "execution_count": null,
   "id": "bae1b44f",
   "metadata": {},
   "outputs": [],
   "source": [
    "\n"
   ]
  },
  {
   "cell_type": "code",
   "execution_count": null,
   "id": "6f911f24",
   "metadata": {},
   "outputs": [],
   "source": [
    "\n"
   ]
  },
  {
   "cell_type": "code",
   "execution_count": null,
   "id": "648019f1",
   "metadata": {},
   "outputs": [],
   "source": [
    "import time"
   ]
  },
  {
   "cell_type": "code",
   "execution_count": null,
   "id": "e21770da",
   "metadata": {},
   "outputs": [],
   "source": [
    "# posx_100_concentrations = []\n",
    "# for s in range(0,100,1):\n",
    "#     t = time.time()\n",
    "#     U1 = sim(x_mean, y_mean, 2**12)\n",
    "#     t1 = time.time()\n",
    "#     print(s)\n",
    "#     print(\"time of step:\",t1-t)\n",
    "#     posx_100_concentrations.append(U1[-1,24,16])\n"
   ]
  },
  {
   "cell_type": "markdown",
   "id": "793c35a3",
   "metadata": {},
   "source": []
  }
 ],
 "metadata": {
  "kernelspec": {
   "display_name": "Python 3 (ipykernel)",
   "language": "python",
   "name": "python3"
  },
  "language_info": {
   "codemirror_mode": {
    "name": "ipython",
    "version": 3
   },
   "file_extension": ".py",
   "mimetype": "text/x-python",
   "name": "python",
   "nbconvert_exporter": "python",
   "pygments_lexer": "ipython3",
   "version": "3.10.2"
  }
 },
 "nbformat": 4,
 "nbformat_minor": 5
}
